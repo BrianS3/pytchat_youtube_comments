{
 "cells": [
  {
   "cell_type": "code",
   "execution_count": 1,
   "metadata": {},
   "outputs": [],
   "source": [
    "import pytchat\n",
    "import json"
   ]
  },
  {
   "cell_type": "code",
   "execution_count": 2,
   "metadata": {},
   "outputs": [],
   "source": [
    "# %%time\n",
    "f = open('mfPWbIcHtaM.txt', 'w')\n",
    "chat = pytchat.create(video_id=\"mfPWbIcHtaM\")\n",
    "while chat.is_alive():\n",
    "    for c in chat.get().items:\n",
    "#         if 'Arriola' in  c.json():\n",
    "        obj = c.json()\n",
    "        obj2 = json.loads(obj)\n",
    "#         print(obj2['author']['name']+': '+obj2['message'])\n",
    "        f.write(str(\"{} {}: {}\".format(obj2['author']['name'], obj2['datetime'],obj2['message']).encode('utf8')))\n",
    "        f.write(\"\\n\")\n",
    "#         f.write(obj2['author']['name']+': '+obj2['message']+'\\n')\n",
    "f.close()"
   ]
  },
  {
   "cell_type": "code",
   "execution_count": 3,
   "metadata": {},
   "outputs": [
    {
     "data": {
      "text/plain": [
       "{'author': {'badgeUrl': '',\n",
       "  'type': '',\n",
       "  'isVerified': False,\n",
       "  'isChatOwner': False,\n",
       "  'isChatSponsor': False,\n",
       "  'isChatModerator': False,\n",
       "  'channelId': 'UCeknsgxUA05WC7uYMO5_5qw',\n",
       "  'channelUrl': 'http://www.youtube.com/channel/UCeknsgxUA05WC7uYMO5_5qw',\n",
       "  'name': 'Mari Bon',\n",
       "  'imageUrl': 'https://yt3.ggpht.com/ytc/AAUvwnhmMfAWwtmL5TV4lXOm3H2Aty2moI5IXwv969Jfj08=s64-c-k-c0x00ffffff-no-rj'},\n",
       " 'type': 'textMessage',\n",
       " 'id': 'CkUKGkNNcTBoWTJqOE80Q0ZVckN3UW9kN3hRTFBnEidDT19Fbm9hajhPNENGUXZRdEFvZFAtMERHUTE2MTM1NDI2NDkyMTg%3D',\n",
       " 'timestamp': 1613542736353,\n",
       " 'elapsedTime': '1:16:46',\n",
       " 'datetime': '2021-02-17 01:18:56',\n",
       " 'message': 'hi blb',\n",
       " 'messageEx': ['hi blb'],\n",
       " 'amountValue': 0.0,\n",
       " 'amountString': '',\n",
       " 'currency': '',\n",
       " 'bgColor': 0}"
      ]
     },
     "execution_count": 3,
     "metadata": {},
     "output_type": "execute_result"
    }
   ],
   "source": [
    "obj2"
   ]
  },
  {
   "cell_type": "code",
   "execution_count": null,
   "metadata": {},
   "outputs": [],
   "source": [
    "# %%time\n",
    "f = open('q3alUrfh6BI.txt', 'w')\n",
    "chat = pytchat.create(video_id=\"q3alUrfh6BI\")\n",
    "while chat.is_alive():\n",
    "    for c in chat.get().items:\n",
    "        if 'Kyl' in  c.json():\n",
    "            obj = c.json()\n",
    "            obj2 = json.loads(obj)\n",
    "            print(obj2['author']['name']+': '+obj2['message'])\n",
    "        f.write(str(\"{}: {}\".format(obj2['author']['name'],obj2['message']).encode('utf8')))\n",
    "        f.write(\"\\n\")\n",
    "#         f.write(obj2['author']['name']+': '+obj2['message']+'\\n')"
   ]
  }
 ],
 "metadata": {
  "kernelspec": {
   "display_name": "Python 3",
   "language": "python",
   "name": "python3"
  },
  "language_info": {
   "codemirror_mode": {
    "name": "ipython",
    "version": 3
   },
   "file_extension": ".py",
   "mimetype": "text/x-python",
   "name": "python",
   "nbconvert_exporter": "python",
   "pygments_lexer": "ipython3",
   "version": "3.8.5"
  }
 },
 "nbformat": 4,
 "nbformat_minor": 4
}
